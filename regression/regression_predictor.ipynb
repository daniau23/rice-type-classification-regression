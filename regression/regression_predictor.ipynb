{
 "cells": [
  {
   "cell_type": "code",
   "execution_count": 1,
   "metadata": {},
   "outputs": [],
   "source": [
    "import pandas as pd\n",
    "import numpy as np \n",
    "import matplotlib.pyplot as plt\n",
    "import plotly.express as px\n",
    "import plotly.graph_objects as go\n",
    "import seaborn as sns\n",
    "import warnings\n",
    "import pickle\n",
    "warnings.filterwarnings(\"ignore\")"
   ]
  },
  {
   "cell_type": "code",
   "execution_count": 2,
   "metadata": {},
   "outputs": [
    {
     "name": "stdout",
     "output_type": "stream",
     "text": [
      "5 \n",
      "\n",
      "[[8145, 192.26997916580086, 45.625991753390714, 0.2226896637664949, 8142, 158.70488059469162, 301.2129280430347, 0.6275061670830634, 0.7615615272174886, 0, 1], [3644, 14.237193361835377, 48.34604407071156, 0.5968807474468729, 2327, 130.4799987453905, 400.7217474857165, 0.9632046191391497, 2.779685310376369, 1, 4], [6990, 107.90954845075305, 90.31471234177496, 0.14095083874847913, 8580, 186.57302135697955, 263.0724478016845, 0.8476043348607738, 0.6736505946530336, 0, 4], [6250, 84.4085252739974, 12.880675716999123, 0.18522076001742926, 5247, 96.67749639258791, 345.4625702921817, 0.8254539374850602, 0.8978098648365668, 0, 2], [9276, 165.66525939094646, 41.39939623077977, 0.8891080049665488, 2081, 195.99453902008452, 239.23857004602334, 0.1237485358545608, 4.348413200477338, 1, 1]] \n",
      "\n",
      "[8145, 192.26997916580086, 45.625991753390714, 0.2226896637664949, 8142, 158.70488059469162, 301.2129280430347, 0.6275061670830634, 0.7615615272174886, 0, 1] \n",
      "\n",
      "11 \n",
      "\n"
     ]
    }
   ],
   "source": [
    "import random\n",
    "\n",
    "def generate_new_data():\n",
    "    new_data_points = []\n",
    "    \n",
    "    for _ in range(5):\n",
    "        new_data_point = []\n",
    "        \n",
    "        # Generate random values for the features\n",
    "        new_data_point.append(random.randint(0, 10000)) # area\n",
    "        new_data_point.append(random.uniform(0, 200))   # majoraxislength\n",
    "        new_data_point.append(random.uniform(0, 100))   # minoraxislength\n",
    "        new_data_point.append(random.uniform(0, 1))     # eccentricity    \n",
    "        new_data_point.append(random.randint(0, 10000)) # convexarea\n",
    "        new_data_point.append(random.uniform(0, 200))   # equivdiameter\n",
    "        new_data_point.append(random.uniform(0, 500))   # perimeter\n",
    "        new_data_point.append(random.uniform(0, 1))     # roundness\n",
    "        new_data_point.append(random.uniform(0, 5))     # aspectration\n",
    "        new_data_point.append(random.randint(0, 1))     # class\n",
    "        new_data_point.append(random.randint(0, 4))     # clusters\n",
    "\n",
    "        \n",
    "        new_data_points.append(new_data_point)\n",
    "    \n",
    "    return new_data_points\n",
    "\n",
    "# Generate 5 new data points\n",
    "new_data = generate_new_data()\n",
    "# The list\n",
    "print(len(new_data),\"\\n\")\n",
    "print(new_data,\"\\n\")\n",
    "\n",
    "# The inner list\n",
    "print(new_data[0],\"\\n\")\n",
    "print(len(new_data[0]),\"\\n\")"
   ]
  },
  {
   "cell_type": "code",
   "execution_count": null,
   "metadata": {},
   "outputs": [],
   "source": [
    "# Load the pipeline from the file\n",
    "with open('../model/main_regression.pkl', 'rb') as f:\n",
    "    loaded_pipeline1 = pickle.load(f)"
   ]
  },
  {
   "cell_type": "code",
   "execution_count": 4,
   "metadata": {},
   "outputs": [],
   "source": [
    "# Load the pipeline from the file\n",
    "with open('../model/regression_poly.pkl', 'rb') as f:\n",
    "    loaded_pipeline2 = pickle.load(f)"
   ]
  },
  {
   "cell_type": "code",
   "execution_count": 5,
   "metadata": {},
   "outputs": [
    {
     "name": "stdout",
     "output_type": "stream",
     "text": [
      "[ 0.4259221   1.84235723  0.93121362  1.15970179 -0.16757138]\n",
      "[0.59225031 0.66861526 0.65949884 0.63534421 0.5617105 ]\n"
     ]
    }
   ],
   "source": [
    "predictions1 = loaded_pipeline1.predict(new_data)\n",
    "predictions2 = loaded_pipeline2.predict(new_data)\n",
    "\n",
    "print(predictions1)\n",
    "print(predictions2)"
   ]
  }
 ],
 "metadata": {
  "kernelspec": {
   "display_name": "Python 3.8.13",
   "language": "python",
   "name": "python3"
  },
  "language_info": {
   "codemirror_mode": {
    "name": "ipython",
    "version": 3
   },
   "file_extension": ".py",
   "mimetype": "text/x-python",
   "name": "python",
   "nbconvert_exporter": "python",
   "pygments_lexer": "ipython3",
   "version": "3.8.13"
  },
  "orig_nbformat": 4,
  "vscode": {
   "interpreter": {
    "hash": "c8e3cf4d6bb4a0ac7877b378c8a3c902fd94777f6924c9107da577688ed2ac1b"
   }
  }
 },
 "nbformat": 4,
 "nbformat_minor": 2
}
