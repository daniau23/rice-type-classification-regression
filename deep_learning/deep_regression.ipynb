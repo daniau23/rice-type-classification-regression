{
 "cells": [
  {
   "cell_type": "code",
   "execution_count": 72,
   "metadata": {},
   "outputs": [],
   "source": [
    "import pandas as pd\n",
    "import numpy as np \n",
    "import matplotlib.pyplot as plt\n",
    "import plotly.express as px\n",
    "import seaborn as sns\n",
    "import warnings\n",
    "warnings.filterwarnings(\"ignore\")\n",
    "import tensorflow as tf\n",
    "from tensorflow.keras.models import Sequential\n",
    "from tensorflow.keras.layers import Activation, Dropout, Dense"
   ]
  },
  {
   "cell_type": "code",
   "execution_count": 73,
   "metadata": {},
   "outputs": [],
   "source": [
    "# Custom rc definitions\n",
    "rc = {\n",
    "        'axes.spines.right': True,\n",
    "        'axes.spines.top': True,\n",
    "        'font.family': ['sans-serif'],\n",
    "        'font.sans-serif':\n",
    "        # 'Arial',\n",
    "        'DejaVu Sans',\n",
    "        # 'Liberation Sans',\n",
    "        # 'Bitstream Vera Sans',\n",
    "        # 'sans-serif',\n",
    "        \"xtick.bottom\":True,\n",
    "        'axes.edgecolor': 'indigo',\n",
    "        'xtick.color': 'black',\n",
    "        'figure.facecolor': \"snow\",\n",
    "        'grid.color': 'grey',\n",
    "        \n",
    "}\n",
    "\n",
    "\n",
    "# font definitions\n",
    "font_label = {'family': 'serif',\n",
    "        'color':  'darkred',\n",
    "        'weight': 'semibold',\n",
    "        'size': 16,\n",
    "        }\n",
    "\n",
    "font_title = {'family': 'serif',\n",
    "        'color':  'black',\n",
    "        'weight': 'semibold',\n",
    "        'size': 16,\n",
    "        }\n",
    "\n",
    "font_fig = {'family': 'sans',\n",
    "        'color':  'chocolate',\n",
    "        # 'weight': 'bold', # doesn't apply to it. Must be specified independently\n",
    "        # 'fontsize': 30, # doesn't apply to it. Must be specified independently\n",
    "        }"
   ]
  },
  {
   "cell_type": "code",
   "execution_count": 74,
   "metadata": {},
   "outputs": [],
   "source": [
    "import os\n",
    "\n",
    "# desktop\n",
    "desktop_path = os.path.expanduser(\"~/Desktop\")\n",
    "\n",
    "# data file path\n",
    "machine = os.path.join(desktop_path,\"machine\")\n",
    "data_science = os.path.join(machine,\"data_science\")\n",
    "rice_type_classification = os.path.join(data_science,\"rice-type-classification\")\n",
    "data_file = os.path.join(rice_type_classification,\"my_data/clusters.csv\")"
   ]
  },
  {
   "cell_type": "code",
   "execution_count": 75,
   "metadata": {},
   "outputs": [],
   "source": [
    "data = pd.read_csv(data_file)"
   ]
  },
  {
   "cell_type": "code",
   "execution_count": 76,
   "metadata": {},
   "outputs": [
    {
     "data": {
      "text/html": [
       "<div>\n",
       "<style scoped>\n",
       "    .dataframe tbody tr th:only-of-type {\n",
       "        vertical-align: middle;\n",
       "    }\n",
       "\n",
       "    .dataframe tbody tr th {\n",
       "        vertical-align: top;\n",
       "    }\n",
       "\n",
       "    .dataframe thead th {\n",
       "        text-align: right;\n",
       "    }\n",
       "</style>\n",
       "<table border=\"1\" class=\"dataframe\">\n",
       "  <thead>\n",
       "    <tr style=\"text-align: right;\">\n",
       "      <th></th>\n",
       "      <th>area</th>\n",
       "      <th>majoraxislength</th>\n",
       "      <th>minoraxislength</th>\n",
       "      <th>eccentricity</th>\n",
       "      <th>convexarea</th>\n",
       "      <th>equivdiameter</th>\n",
       "      <th>extent</th>\n",
       "      <th>perimeter</th>\n",
       "      <th>roundness</th>\n",
       "      <th>aspectration</th>\n",
       "      <th>clusters</th>\n",
       "      <th>class_jasmine</th>\n",
       "    </tr>\n",
       "  </thead>\n",
       "  <tbody>\n",
       "    <tr>\n",
       "      <th>0</th>\n",
       "      <td>6374</td>\n",
       "      <td>129.577</td>\n",
       "      <td>63.762</td>\n",
       "      <td>0.871</td>\n",
       "      <td>6476</td>\n",
       "      <td>90.087</td>\n",
       "      <td>0.662</td>\n",
       "      <td>314.656</td>\n",
       "      <td>0.809</td>\n",
       "      <td>2.032</td>\n",
       "      <td>3</td>\n",
       "      <td>1</td>\n",
       "    </tr>\n",
       "    <tr>\n",
       "      <th>1</th>\n",
       "      <td>6946</td>\n",
       "      <td>136.304</td>\n",
       "      <td>65.738</td>\n",
       "      <td>0.876</td>\n",
       "      <td>7115</td>\n",
       "      <td>94.042</td>\n",
       "      <td>0.594</td>\n",
       "      <td>338.782</td>\n",
       "      <td>0.761</td>\n",
       "      <td>2.073</td>\n",
       "      <td>1</td>\n",
       "      <td>1</td>\n",
       "    </tr>\n",
       "    <tr>\n",
       "      <th>2</th>\n",
       "      <td>5786</td>\n",
       "      <td>125.555</td>\n",
       "      <td>59.626</td>\n",
       "      <td>0.880</td>\n",
       "      <td>5945</td>\n",
       "      <td>85.831</td>\n",
       "      <td>0.623</td>\n",
       "      <td>307.304</td>\n",
       "      <td>0.770</td>\n",
       "      <td>2.106</td>\n",
       "      <td>3</td>\n",
       "      <td>1</td>\n",
       "    </tr>\n",
       "    <tr>\n",
       "      <th>3</th>\n",
       "      <td>5896</td>\n",
       "      <td>127.014</td>\n",
       "      <td>59.843</td>\n",
       "      <td>0.882</td>\n",
       "      <td>6092</td>\n",
       "      <td>86.643</td>\n",
       "      <td>0.610</td>\n",
       "      <td>309.264</td>\n",
       "      <td>0.775</td>\n",
       "      <td>2.122</td>\n",
       "      <td>3</td>\n",
       "      <td>1</td>\n",
       "    </tr>\n",
       "    <tr>\n",
       "      <th>4</th>\n",
       "      <td>6082</td>\n",
       "      <td>129.098</td>\n",
       "      <td>60.416</td>\n",
       "      <td>0.884</td>\n",
       "      <td>6204</td>\n",
       "      <td>87.999</td>\n",
       "      <td>0.661</td>\n",
       "      <td>308.106</td>\n",
       "      <td>0.805</td>\n",
       "      <td>2.137</td>\n",
       "      <td>3</td>\n",
       "      <td>1</td>\n",
       "    </tr>\n",
       "  </tbody>\n",
       "</table>\n",
       "</div>"
      ],
      "text/plain": [
       "   area  majoraxislength  minoraxislength  eccentricity  convexarea  \\\n",
       "0  6374          129.577           63.762         0.871        6476   \n",
       "1  6946          136.304           65.738         0.876        7115   \n",
       "2  5786          125.555           59.626         0.880        5945   \n",
       "3  5896          127.014           59.843         0.882        6092   \n",
       "4  6082          129.098           60.416         0.884        6204   \n",
       "\n",
       "   equivdiameter  extent  perimeter  roundness  aspectration  clusters  \\\n",
       "0         90.087   0.662    314.656      0.809         2.032         3   \n",
       "1         94.042   0.594    338.782      0.761         2.073         1   \n",
       "2         85.831   0.623    307.304      0.770         2.106         3   \n",
       "3         86.643   0.610    309.264      0.775         2.122         3   \n",
       "4         87.999   0.661    308.106      0.805         2.137         3   \n",
       "\n",
       "   class_jasmine  \n",
       "0              1  \n",
       "1              1  \n",
       "2              1  \n",
       "3              1  \n",
       "4              1  "
      ]
     },
     "execution_count": 76,
     "metadata": {},
     "output_type": "execute_result"
    }
   ],
   "source": [
    "data = pd.get_dummies(data,columns=['class'],drop_first=True)\n",
    "data.head()"
   ]
  },
  {
   "cell_type": "code",
   "execution_count": 77,
   "metadata": {},
   "outputs": [],
   "source": [
    "from sklearn.model_selection import train_test_split\n",
    "\n",
    "from sklearn.compose import ColumnTransformer\n",
    "from sklearn.pipeline import  Pipeline\n",
    "from sklearn.preprocessing import StandardScaler,PolynomialFeatures"
   ]
  },
  {
   "cell_type": "code",
   "execution_count": 78,
   "metadata": {},
   "outputs": [],
   "source": [
    "X = data.drop(columns=[\"extent\"])\n",
    "y = data.extent"
   ]
  },
  {
   "cell_type": "code",
   "execution_count": 79,
   "metadata": {},
   "outputs": [
    {
     "data": {
      "text/plain": [
       "[0, 1, 2, 4, 5, 6]"
      ]
     },
     "execution_count": 79,
     "metadata": {},
     "output_type": "execute_result"
    }
   ],
   "source": [
    "to_transform = ['area','majoraxislength','minoraxislength',\n",
    "                'convexarea','equivdiameter','perimeter']\n",
    "\n",
    "indexes = [ X.columns.tolist().index(value) for value in to_transform]\n",
    "indexes"
   ]
  },
  {
   "cell_type": "code",
   "execution_count": 80,
   "metadata": {},
   "outputs": [],
   "source": [
    "# Scaler\n",
    "scaler = StandardScaler()\n",
    "\n",
    "# Column transformer\n",
    "ct1 = ColumnTransformer([\n",
    "    ('scale',scaler,indexes)],\n",
    "    remainder='passthrough')"
   ]
  },
  {
   "cell_type": "code",
   "execution_count": 81,
   "metadata": {},
   "outputs": [],
   "source": [
    "my_pipe = Pipeline([\n",
    "    # (\"poly\",PolynomialFeatures(degree=2,include_bias=False)),\n",
    "    (\"ct\",ct1)\n",
    "])"
   ]
  },
  {
   "cell_type": "code",
   "execution_count": 82,
   "metadata": {},
   "outputs": [],
   "source": [
    "X_train,X_test,y_train,y_test = train_test_split(X,y,random_state=42,test_size=.20)"
   ]
  },
  {
   "cell_type": "code",
   "execution_count": 83,
   "metadata": {},
   "outputs": [],
   "source": [
    "X_train_preprocessed = my_pipe.fit_transform(X_train)\n",
    "X_test_preprocessed = my_pipe.transform(X_test)"
   ]
  },
  {
   "cell_type": "code",
   "execution_count": 84,
   "metadata": {},
   "outputs": [],
   "source": [
    "import pickle\n",
    "\n",
    "with open('../pipeline/pipeline_regressor.pkl','wb') as filer:\n",
    "    pickle.dump(my_pipe,filer)"
   ]
  },
  {
   "cell_type": "code",
   "execution_count": 85,
   "metadata": {},
   "outputs": [],
   "source": [
    "from tensorflow.keras.layers import Input,Add\n",
    "from tensorflow.keras.models import Model"
   ]
  },
  {
   "cell_type": "code",
   "execution_count": 86,
   "metadata": {},
   "outputs": [],
   "source": [
    "def residual_block(x):\n",
    "    identity = x\n",
    "    x = Dense(64,activation='relu',name=\"residual_block_layer_1\")(x) # 64\n",
    "    x = Dense(64,activation='relu',name=\"residual_block_layer_2\")(x) # 64\n",
    "    x = Add()([identity,x] )# 64 + 64 = 128\n",
    "\n",
    "    return x"
   ]
  },
  {
   "cell_type": "code",
   "execution_count": 87,
   "metadata": {},
   "outputs": [],
   "source": [
    "def custom_model(input_shape):\n",
    "    inputs = Input(shape=(input_shape,),name='input_layer')\n",
    "    x = Dense(64,activation='relu',name=\"layer1\")(inputs)\n",
    "    x = residual_block(x) # 128\n",
    "    x = Dense(32,activation=\"relu\",name=\"layer2\")(x) \n",
    "    x = Dense(16,activation=\"relu\",name=\"layer3\")(x)\n",
    "    x = Dropout(.7)(x)\n",
    "    output_layer= Dense(1,activation=None,name=\"output\")(x)\n",
    "    model = Model(inputs=inputs,outputs=output_layer)\n",
    "\n",
    "    return model\n"
   ]
  },
  {
   "cell_type": "code",
   "execution_count": 88,
   "metadata": {},
   "outputs": [
    {
     "data": {
      "text/plain": [
       "(14117, 11)"
      ]
     },
     "execution_count": 88,
     "metadata": {},
     "output_type": "execute_result"
    }
   ],
   "source": [
    "X_train_preprocessed.shape"
   ]
  },
  {
   "cell_type": "code",
   "execution_count": 89,
   "metadata": {},
   "outputs": [
    {
     "data": {
      "text/plain": [
       "array([[-1.28272086, -0.62321823, -1.36230057, -1.3339193 , -1.33254602,\n",
       "        -1.2864855 ,  0.949     ,  0.648     ,  3.166     ,  3.        ,\n",
       "         1.        ]])"
      ]
     },
     "execution_count": 89,
     "metadata": {},
     "output_type": "execute_result"
    }
   ],
   "source": [
    "X_train_preprocessed[:1]"
   ]
  },
  {
   "cell_type": "code",
   "execution_count": 90,
   "metadata": {},
   "outputs": [
    {
     "name": "stdout",
     "output_type": "stream",
     "text": [
      "Model: \"model\"\n",
      "__________________________________________________________________________________________________\n",
      " Layer (type)                   Output Shape         Param #     Connected to                     \n",
      "==================================================================================================\n",
      " input_layer (InputLayer)       [(None, 11)]         0           []                               \n",
      "                                                                                                  \n",
      " layer1 (Dense)                 (None, 64)           768         ['input_layer[0][0]']            \n",
      "                                                                                                  \n",
      " residual_block_layer_1 (Dense)  (None, 64)          4160        ['layer1[0][0]']                 \n",
      "                                                                                                  \n",
      " residual_block_layer_2 (Dense)  (None, 64)          4160        ['residual_block_layer_1[0][0]'] \n",
      "                                                                                                  \n",
      " add (Add)                      (None, 64)           0           ['layer1[0][0]',                 \n",
      "                                                                  'residual_block_layer_2[0][0]'] \n",
      "                                                                                                  \n",
      " layer2 (Dense)                 (None, 32)           2080        ['add[0][0]']                    \n",
      "                                                                                                  \n",
      " layer3 (Dense)                 (None, 16)           528         ['layer2[0][0]']                 \n",
      "                                                                                                  \n",
      " dropout (Dropout)              (None, 16)           0           ['layer3[0][0]']                 \n",
      "                                                                                                  \n",
      " output (Dense)                 (None, 1)            17          ['dropout[0][0]']                \n",
      "                                                                                                  \n",
      "==================================================================================================\n",
      "Total params: 11,713\n",
      "Trainable params: 11,713\n",
      "Non-trainable params: 0\n",
      "__________________________________________________________________________________________________\n"
     ]
    }
   ],
   "source": [
    "model = custom_model(X_test_preprocessed.shape[1])\n",
    "model.summary()"
   ]
  },
  {
   "cell_type": "code",
   "execution_count": 91,
   "metadata": {},
   "outputs": [],
   "source": [
    "# Define the custom callback\n",
    "class MyCustomCallback(tf.keras.callbacks.Callback):\n",
    "    def __init__(self):\n",
    "        super(MyCustomCallback, self).__init__()\n",
    "\n",
    "    def on_epoch_end(self, epoch, logs=None):\n",
    "        if logs is not None:\n",
    "            val_loss = logs.get('val_loss') \n",
    "            loss = logs.get('loss')\n",
    "            val_acc = logs.get('val_acc')\n",
    "            acc = logs.get('acc')\n",
    "            val_root_mean_squared_error = logs.get('val_root_mean_squared_error')\n",
    "            root_mean_squared_error = logs.get('root_mean_squared_error')\n",
    "            if (val_root_mean_squared_error < 0.01 ):\n",
    "                print(f\"\\nValidation root_mean_squared_error < 0.01\\nStopping training.\\n\")\n",
    "                self.model.stop_training = True\n",
    "\n",
    "my_callback = MyCustomCallback()"
   ]
  },
  {
   "cell_type": "code",
   "execution_count": 92,
   "metadata": {},
   "outputs": [],
   "source": [
    "import datetime\n",
    "class TimeCallback(tf.keras.callbacks.Callback):\n",
    "\n",
    "    def on_epoch_begin(self,epoch, logs=None):\n",
    "        print('Epoch: {}, begins at {}\\n'.format(epoch, datetime.datetime.now().time()))\n",
    "\n",
    "    def on_epoch_end(self,epoch, logs=None):\n",
    "        print('Epoch: {}, ends at {}\\n'.format(epoch, datetime.datetime.now().time()))\n",
    "\n",
    "my_timer = TimeCallback()"
   ]
  },
  {
   "cell_type": "code",
   "execution_count": 101,
   "metadata": {},
   "outputs": [],
   "source": [
    "# Learning Rate Schedulers\n",
    "peak_callback = tf.keras.callbacks.ReduceLROnPlateau(\n",
    "    monitor=\"val_loss\",\n",
    "    factor=0.1,\n",
    "    patience=2,\n",
    "    mode= 'min',\n",
    "    min_lr=0.00001\n",
    ")\n",
    "\n",
    "# Learning rate scheduler\n",
    "def scheduler(epoch,lr):\n",
    "    if epoch < 10:\n",
    "        return lr\n",
    "    else:\n",
    "        return lr * tf.math.exp(-0.1)\n",
    "\n",
    "my_scheduler = tf.keras.callbacks.LearningRateScheduler(scheduler)\n",
    "# optimizer\n",
    "optimise = tf.keras.optimizers.Adam(learning_rate=0.01)\n",
    "# losses\n",
    "my_loss = tf.keras.losses.mean_squared_error\n",
    "\n",
    "# metrics\n",
    "my_rmse = tf.keras.metrics.RootMeanSquaredError()"
   ]
  },
  {
   "cell_type": "code",
   "execution_count": 94,
   "metadata": {},
   "outputs": [],
   "source": [
    "model.compile(optimizer=optimise,loss=my_loss,\n",
    "            metrics=[\"acc\",my_rmse])"
   ]
  },
  {
   "cell_type": "code",
   "execution_count": 95,
   "metadata": {},
   "outputs": [
    {
     "name": "stdout",
     "output_type": "stream",
     "text": [
      "Epoch: 0, begins at 17:04:13.434843\n",
      "\n",
      "Epoch 1/20\n",
      "699/706 [============================>.] - ETA: 0s - loss: 0.0210 - acc: 0.0000e+00 - root_mean_squared_error: 0.1448Epoch: 0, ends at 17:04:18.540076\n",
      "\n",
      "706/706 [==============================] - 5s 5ms/step - loss: 0.0209 - acc: 0.0000e+00 - root_mean_squared_error: 0.1445 - val_loss: 0.0098 - val_acc: 0.0000e+00 - val_root_mean_squared_error: 0.0988 - lr: 0.0100\n",
      "Epoch: 1, begins at 17:04:18.545091\n",
      "\n",
      "Epoch 2/20\n",
      "695/706 [============================>.] - ETA: 0s - loss: 0.0106 - acc: 0.0000e+00 - root_mean_squared_error: 0.1028Epoch: 1, ends at 17:04:21.544738\n",
      "\n",
      "706/706 [==============================] - 3s 4ms/step - loss: 0.0106 - acc: 0.0000e+00 - root_mean_squared_error: 0.1028 - val_loss: 0.0098 - val_acc: 0.0000e+00 - val_root_mean_squared_error: 0.0992 - lr: 0.0100\n",
      "Epoch: 2, begins at 17:04:21.549833\n",
      "\n",
      "Epoch 3/20\n",
      "698/706 [============================>.] - ETA: 0s - loss: 0.0106 - acc: 0.0000e+00 - root_mean_squared_error: 0.1028Epoch: 2, ends at 17:04:24.841628\n",
      "\n",
      "706/706 [==============================] - 3s 5ms/step - loss: 0.0106 - acc: 0.0000e+00 - root_mean_squared_error: 0.1028 - val_loss: 0.0099 - val_acc: 0.0000e+00 - val_root_mean_squared_error: 0.0993 - lr: 0.0100\n",
      "Epoch: 3, begins at 17:04:24.849680\n",
      "\n",
      "Epoch 4/20\n",
      "703/706 [============================>.] - ETA: 0s - loss: 0.0104 - acc: 0.0000e+00 - root_mean_squared_error: 0.1018Epoch: 3, ends at 17:04:28.478025\n",
      "\n",
      "706/706 [==============================] - 4s 5ms/step - loss: 0.0104 - acc: 0.0000e+00 - root_mean_squared_error: 0.1018 - val_loss: 0.0097 - val_acc: 0.0000e+00 - val_root_mean_squared_error: 0.0984 - lr: 1.0000e-03\n",
      "Epoch: 4, begins at 17:04:28.488512\n",
      "\n",
      "Epoch 5/20\n",
      "698/706 [============================>.] - ETA: 0s - loss: 0.0103 - acc: 0.0000e+00 - root_mean_squared_error: 0.1017Epoch: 4, ends at 17:04:31.842905\n",
      "\n",
      "706/706 [==============================] - 3s 5ms/step - loss: 0.0103 - acc: 0.0000e+00 - root_mean_squared_error: 0.1017 - val_loss: 0.0096 - val_acc: 0.0000e+00 - val_root_mean_squared_error: 0.0978 - lr: 1.0000e-03\n",
      "Epoch: 5, begins at 17:04:31.850859\n",
      "\n",
      "Epoch 6/20\n",
      "698/706 [============================>.] - ETA: 0s - loss: 0.0103 - acc: 0.0000e+00 - root_mean_squared_error: 0.1013Epoch: 5, ends at 17:04:35.364766\n",
      "\n",
      "706/706 [==============================] - 4s 5ms/step - loss: 0.0103 - acc: 0.0000e+00 - root_mean_squared_error: 0.1014 - val_loss: 0.0096 - val_acc: 0.0000e+00 - val_root_mean_squared_error: 0.0979 - lr: 1.0000e-03\n",
      "Epoch: 6, begins at 17:04:35.369749\n",
      "\n",
      "Epoch 7/20\n",
      "702/706 [============================>.] - ETA: 0s - loss: 0.0103 - acc: 0.0000e+00 - root_mean_squared_error: 0.1016Epoch: 6, ends at 17:04:39.146660\n",
      "\n",
      "706/706 [==============================] - 4s 5ms/step - loss: 0.0103 - acc: 0.0000e+00 - root_mean_squared_error: 0.1015 - val_loss: 0.0097 - val_acc: 0.0000e+00 - val_root_mean_squared_error: 0.0983 - lr: 1.0000e-03\n",
      "Epoch: 7, begins at 17:04:39.156639\n",
      "\n",
      "Epoch 8/20\n",
      "702/706 [============================>.] - ETA: 0s - loss: 0.0103 - acc: 0.0000e+00 - root_mean_squared_error: 0.1015Epoch: 7, ends at 17:04:42.508158\n",
      "\n",
      "706/706 [==============================] - 3s 5ms/step - loss: 0.0103 - acc: 0.0000e+00 - root_mean_squared_error: 0.1014 - val_loss: 0.0096 - val_acc: 0.0000e+00 - val_root_mean_squared_error: 0.0981 - lr: 1.0000e-04\n",
      "Epoch: 8, begins at 17:04:42.517109\n",
      "\n",
      "Epoch 9/20\n",
      "699/706 [============================>.] - ETA: 0s - loss: 0.0102 - acc: 0.0000e+00 - root_mean_squared_error: 0.1012Epoch: 8, ends at 17:04:45.717505\n",
      "\n",
      "706/706 [==============================] - 3s 5ms/step - loss: 0.0102 - acc: 0.0000e+00 - root_mean_squared_error: 0.1012 - val_loss: 0.0096 - val_acc: 0.0000e+00 - val_root_mean_squared_error: 0.0981 - lr: 1.0000e-04\n",
      "Epoch: 9, begins at 17:04:45.723596\n",
      "\n",
      "Epoch 10/20\n",
      "705/706 [============================>.] - ETA: 0s - loss: 0.0102 - acc: 0.0000e+00 - root_mean_squared_error: 0.1010Epoch: 9, ends at 17:04:49.027230\n",
      "\n",
      "706/706 [==============================] - 3s 5ms/step - loss: 0.0102 - acc: 0.0000e+00 - root_mean_squared_error: 0.1010 - val_loss: 0.0096 - val_acc: 0.0000e+00 - val_root_mean_squared_error: 0.0980 - lr: 1.0000e-05\n",
      "Epoch: 10, begins at 17:04:49.036244\n",
      "\n",
      "Epoch 11/20\n",
      "703/706 [============================>.] - ETA: 0s - loss: 0.0102 - acc: 0.0000e+00 - root_mean_squared_error: 0.1011Epoch: 10, ends at 17:04:53.028319\n",
      "\n",
      "706/706 [==============================] - 4s 6ms/step - loss: 0.0102 - acc: 0.0000e+00 - root_mean_squared_error: 0.1011 - val_loss: 0.0096 - val_acc: 0.0000e+00 - val_root_mean_squared_error: 0.0980 - lr: 9.0484e-06\n",
      "Epoch: 11, begins at 17:04:53.034273\n",
      "\n",
      "Epoch 12/20\n",
      "696/706 [============================>.] - ETA: 0s - loss: 0.0102 - acc: 0.0000e+00 - root_mean_squared_error: 0.1008Epoch: 11, ends at 17:04:56.502708\n",
      "\n",
      "706/706 [==============================] - 3s 5ms/step - loss: 0.0102 - acc: 0.0000e+00 - root_mean_squared_error: 0.1008 - val_loss: 0.0096 - val_acc: 0.0000e+00 - val_root_mean_squared_error: 0.0980 - lr: 8.1873e-06\n",
      "Epoch: 12, begins at 17:04:56.510689\n",
      "\n",
      "Epoch 13/20\n",
      "703/706 [============================>.] - ETA: 0s - loss: 0.0102 - acc: 0.0000e+00 - root_mean_squared_error: 0.1011Epoch: 12, ends at 17:04:59.698198\n",
      "\n",
      "706/706 [==============================] - 3s 5ms/step - loss: 0.0102 - acc: 0.0000e+00 - root_mean_squared_error: 0.1010 - val_loss: 0.0096 - val_acc: 0.0000e+00 - val_root_mean_squared_error: 0.0980 - lr: 7.4082e-06\n",
      "Epoch: 13, begins at 17:04:59.706177\n",
      "\n",
      "Epoch 14/20\n",
      "701/706 [============================>.] - ETA: 0s - loss: 0.0103 - acc: 0.0000e+00 - root_mean_squared_error: 0.1014Epoch: 13, ends at 17:05:03.193728\n",
      "\n",
      "706/706 [==============================] - 3s 5ms/step - loss: 0.0103 - acc: 0.0000e+00 - root_mean_squared_error: 0.1014 - val_loss: 0.0096 - val_acc: 0.0000e+00 - val_root_mean_squared_error: 0.0980 - lr: 6.7032e-06\n",
      "Epoch: 14, begins at 17:05:03.201674\n",
      "\n",
      "Epoch 15/20\n",
      "698/706 [============================>.] - ETA: 0s - loss: 0.0102 - acc: 0.0000e+00 - root_mean_squared_error: 0.1010Epoch: 14, ends at 17:05:06.454900\n",
      "\n",
      "706/706 [==============================] - 3s 5ms/step - loss: 0.0102 - acc: 0.0000e+00 - root_mean_squared_error: 0.1010 - val_loss: 0.0096 - val_acc: 0.0000e+00 - val_root_mean_squared_error: 0.0980 - lr: 6.0653e-06\n",
      "Epoch: 15, begins at 17:05:06.461883\n",
      "\n",
      "Epoch 16/20\n",
      "702/706 [============================>.] - ETA: 0s - loss: 0.0102 - acc: 0.0000e+00 - root_mean_squared_error: 0.1010Epoch: 15, ends at 17:05:09.621192\n",
      "\n",
      "706/706 [==============================] - 3s 4ms/step - loss: 0.0102 - acc: 0.0000e+00 - root_mean_squared_error: 0.1010 - val_loss: 0.0096 - val_acc: 0.0000e+00 - val_root_mean_squared_error: 0.0980 - lr: 5.4881e-06\n",
      "Epoch: 16, begins at 17:05:09.627148\n",
      "\n",
      "Epoch 17/20\n",
      "698/706 [============================>.] - ETA: 0s - loss: 0.0102 - acc: 0.0000e+00 - root_mean_squared_error: 0.1008Epoch: 16, ends at 17:05:13.360531\n",
      "\n",
      "706/706 [==============================] - 4s 5ms/step - loss: 0.0102 - acc: 0.0000e+00 - root_mean_squared_error: 0.1009 - val_loss: 0.0096 - val_acc: 0.0000e+00 - val_root_mean_squared_error: 0.0980 - lr: 4.9659e-06\n",
      "Epoch: 17, begins at 17:05:13.371499\n",
      "\n",
      "Epoch 18/20\n",
      "695/706 [============================>.] - ETA: 0s - loss: 0.0102 - acc: 0.0000e+00 - root_mean_squared_error: 0.1011Epoch: 17, ends at 17:05:16.668503\n",
      "\n",
      "706/706 [==============================] - 3s 5ms/step - loss: 0.0102 - acc: 0.0000e+00 - root_mean_squared_error: 0.1010 - val_loss: 0.0096 - val_acc: 0.0000e+00 - val_root_mean_squared_error: 0.0980 - lr: 4.4933e-06\n",
      "Epoch: 18, begins at 17:05:16.674458\n",
      "\n",
      "Epoch 19/20\n",
      "705/706 [============================>.] - ETA: 0s - loss: 0.0102 - acc: 0.0000e+00 - root_mean_squared_error: 0.1011Epoch: 18, ends at 17:05:20.291312\n",
      "\n",
      "706/706 [==============================] - 4s 5ms/step - loss: 0.0102 - acc: 0.0000e+00 - root_mean_squared_error: 0.1010 - val_loss: 0.0096 - val_acc: 0.0000e+00 - val_root_mean_squared_error: 0.0980 - lr: 4.0657e-06\n",
      "Epoch: 19, begins at 17:05:20.298993\n",
      "\n",
      "Epoch 20/20\n",
      "697/706 [============================>.] - ETA: 0s - loss: 0.0102 - acc: 0.0000e+00 - root_mean_squared_error: 0.1011Epoch: 19, ends at 17:05:23.503083\n",
      "\n",
      "706/706 [==============================] - 3s 5ms/step - loss: 0.0102 - acc: 0.0000e+00 - root_mean_squared_error: 0.1012 - val_loss: 0.0096 - val_acc: 0.0000e+00 - val_root_mean_squared_error: 0.0980 - lr: 3.6788e-06\n"
     ]
    }
   ],
   "source": [
    "tf.keras.backend.clear_session()\n",
    "model_history = model.fit(X_train_preprocessed,y_train,\n",
    "                        epochs=20,batch_size=16,validation_split=.20,\n",
    "                        # steps_per_epoch=5,\n",
    "                        callbacks=[my_callback,my_scheduler,\n",
    "                                    peak_callback,my_timer])"
   ]
  },
  {
   "cell_type": "code",
   "execution_count": 96,
   "metadata": {},
   "outputs": [
    {
     "name": "stdout",
     "output_type": "stream",
     "text": [
      "111/111 [==============================] - 0s 2ms/step - loss: 0.0098 - acc: 0.0000e+00 - root_mean_squared_error: 0.0989\n"
     ]
    }
   ],
   "source": [
    "score = model.evaluate(X_test_preprocessed,y_test,verbose=1)"
   ]
  },
  {
   "cell_type": "code",
   "execution_count": 98,
   "metadata": {},
   "outputs": [
    {
     "name": "stdout",
     "output_type": "stream",
     "text": [
      "Standard Deviation of Extent: 0.104\n"
     ]
    }
   ],
   "source": [
    "print(f'Standard Deviation of Extent: {np.around(data.extent.std(),3)}') # std of Extent\n",
    "# RMSE score is lower than std of Extent; Algorithm does well?"
   ]
  },
  {
   "cell_type": "code",
   "execution_count": 107,
   "metadata": {},
   "outputs": [
    {
     "data": {
      "image/png": "[encoded data removed]",
      "text/plain": [
       "<Figure size 1080x360 with 2 Axes>"
      ]
     },
     "metadata": {
      "needs_background": "light"
     },
     "output_type": "display_data"
    }
   ],
   "source": [
    "# Model Performance Charts\n",
    "fig, ax = plt.subplots(1, 2, figsize=(15,5))\n",
    "\n",
    "# Plot accuracy\n",
    "ax[0].plot(model_history.history['root_mean_squared_error'])\n",
    "ax[0].plot(model_history.history['val_root_mean_squared_error'])\n",
    "ax[0].set_title('Model root_mean_squared_error',fontdict=font_title)\n",
    "ax[0].set_ylabel('RMSE',fontdict=font_label)\n",
    "ax[0].set_xlabel('Epoch',fontdict=font_label)\n",
    "ax[0].legend(['Training', 'val_root_mean_squared_error'], loc='upper left')\n",
    "\n",
    "# Plot loss\n",
    "ax[1].plot(model_history.history['loss'])\n",
    "ax[1].plot(model_history.history['val_loss'])\n",
    "ax[1].set_title('Model Loss',fontdict=font_title)\n",
    "ax[1].set_ylabel('Loss',fontdict=font_label)\n",
    "ax[1].set_xlabel('Epoch',fontdict=font_label)\n",
    "ax[1].legend(['Training', 'Validation'], loc='upper left')\n",
    "\n",
    "# Show the plots\n",
    "plt.show()\n"
   ]
  },
  {
   "cell_type": "code",
   "execution_count": 118,
   "metadata": {},
   "outputs": [
    {
     "name": "stdout",
     "output_type": "stream",
     "text": [
      "111/111 [==============================] - 0s 2ms/step\n"
     ]
    }
   ],
   "source": [
    "y_pred_test = model.predict(X_test_preprocessed) \n",
    "y_pred_test\n",
    "predictions = [predictions for sublist in y_pred_test.tolist() for predictions in sublist]\n",
    "# print(predictions)"
   ]
  },
  {
   "cell_type": "code",
   "execution_count": 119,
   "metadata": {},
   "outputs": [
    {
     "data": {
      "text/html": [
       "<div>\n",
       "<style scoped>\n",
       "    .dataframe tbody tr th:only-of-type {\n",
       "        vertical-align: middle;\n",
       "    }\n",
       "\n",
       "    .dataframe tbody tr th {\n",
       "        vertical-align: top;\n",
       "    }\n",
       "\n",
       "    .dataframe thead th {\n",
       "        text-align: right;\n",
       "    }\n",
       "</style>\n",
       "<table border=\"1\" class=\"dataframe\">\n",
       "  <thead>\n",
       "    <tr style=\"text-align: right;\">\n",
       "      <th></th>\n",
       "      <th>predicted_extent</th>\n",
       "      <th>actual_extent</th>\n",
       "      <th>percentage_error</th>\n",
       "    </tr>\n",
       "  </thead>\n",
       "  <tbody>\n",
       "    <tr>\n",
       "      <th>5277</th>\n",
       "      <td>0.601485</td>\n",
       "      <td>0.651</td>\n",
       "      <td>-7.605934</td>\n",
       "    </tr>\n",
       "    <tr>\n",
       "      <th>8354</th>\n",
       "      <td>0.592849</td>\n",
       "      <td>0.469</td>\n",
       "      <td>26.407065</td>\n",
       "    </tr>\n",
       "    <tr>\n",
       "      <th>2718</th>\n",
       "      <td>0.603835</td>\n",
       "      <td>0.547</td>\n",
       "      <td>10.390374</td>\n",
       "    </tr>\n",
       "    <tr>\n",
       "      <th>7895</th>\n",
       "      <td>0.592611</td>\n",
       "      <td>0.479</td>\n",
       "      <td>23.718288</td>\n",
       "    </tr>\n",
       "    <tr>\n",
       "      <th>4205</th>\n",
       "      <td>0.598503</td>\n",
       "      <td>0.667</td>\n",
       "      <td>-10.269363</td>\n",
       "    </tr>\n",
       "  </tbody>\n",
       "</table>\n",
       "</div>"
      ],
      "text/plain": [
       "      predicted_extent  actual_extent  percentage_error\n",
       "5277          0.601485          0.651         -7.605934\n",
       "8354          0.592849          0.469         26.407065\n",
       "2718          0.603835          0.547         10.390374\n",
       "7895          0.592611          0.479         23.718288\n",
       "4205          0.598503          0.667        -10.269363"
      ]
     },
     "execution_count": 119,
     "metadata": {},
     "output_type": "execute_result"
    }
   ],
   "source": [
    "percent_error = 100* ((predictions-y_test)/y_test)\n",
    "data = {\n",
    "    'predicted_extent':predictions,\n",
    "    'actual_extent':y_test,\n",
    "    \"percentage_error\":percent_error\n",
    "}\n",
    "predictions_frame = pd.DataFrame(data)\n",
    "predictions_frame.to_csv(\"my_data/reg_deep_predictions/reg_deep_predictions.csv\"\n",
    "                    ,index=True)\n",
    "predictions_frame.head(5)"
   ]
  },
  {
   "cell_type": "code",
   "execution_count": 129,
   "metadata": {},
   "outputs": [
    {
     "data": {
      "text/plain": [
       "0"
      ]
     },
     "execution_count": 129,
     "metadata": {},
     "output_type": "execute_result"
    }
   ],
   "source": [
    "cond = (predictions_frame.percentage_error == 0)\n",
    "predictions_frame.loc[cond,:].value_counts().sum()"
   ]
  },
  {
   "cell_type": "code",
   "execution_count": 115,
   "metadata": {},
   "outputs": [
    {
     "data": {
      "text/plain": [
       "Text(0, 0.5, 'Actual Extent')"
      ]
     },
     "execution_count": 115,
     "metadata": {},
     "output_type": "execute_result"
    },
    {
     "data": {
      "image/png": "[encoded data removed]",
      "text/plain": [
       "<Figure size 432x288 with 1 Axes>"
      ]
     },
     "metadata": {},
     "output_type": "display_data"
    }
   ],
   "source": [
    "# Regression plot\n",
    "sns.set_theme(style='darkgrid',rc=rc)\n",
    "sns.regplot(data=predictions_frame,\n",
    "        x='predicted_extent',\n",
    "        y='actual_extent',\n",
    "        fit_reg=True,\n",
    "        color='crimson',\n",
    "        marker='.')\n",
    "plt.title('Regression Plot of Predicted Extent vs. Actual Extent',fontdict=font_title)\n",
    "plt.xlabel('Predicted Extent',fontdict=font_label)\n",
    "plt.ylabel('Actual Extent',fontdict=font_label)"
   ]
  },
  {
   "cell_type": "code",
   "execution_count": 116,
   "metadata": {},
   "outputs": [
    {
     "name": "stdout",
     "output_type": "stream",
     "text": [
      "INFO:tensorflow:Assets written to: model/regressor\\assets\n"
     ]
    }
   ],
   "source": [
    "# model = os.path\n",
    "model_path = \"model\"\n",
    "model.save(f\"../{model_path}/regressor\")"
   ]
  }
 ],
 "metadata": {
  "kernelspec": {
   "display_name": "Python 3.8.13",
   "language": "python",
   "name": "python3"
  },
  "language_info": {
   "codemirror_mode": {
    "name": "ipython",
    "version": 3
   },
   "file_extension": ".py",
   "mimetype": "text/x-python",
   "name": "python",
   "nbconvert_exporter": "python",
   "pygments_lexer": "ipython3",
   "version": "3.8.13"
  },
  "orig_nbformat": 4,
  "vscode": {
   "interpreter": {
    "hash": "0d3784fccdc90acbf957f8297e7e306d4c8b14c1a207bd5307d0795df9a8d77b"
   }
  }
 },
 "nbformat": 4,
 "nbformat_minor": 2
}
