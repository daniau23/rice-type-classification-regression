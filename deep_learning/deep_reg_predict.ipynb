{
 "cells": [
  {
   "cell_type": "code",
   "execution_count": 1,
   "metadata": {},
   "outputs": [],
   "source": [
    "import pandas as pd\n",
    "import numpy as np \n",
    "import matplotlib.pyplot as plt\n",
    "import plotly.express as px\n",
    "import plotly.graph_objects as go\n",
    "import seaborn as sns\n",
    "import warnings\n",
    "import pickle\n",
    "warnings.filterwarnings(\"ignore\")\n",
    "import tensorflow as tf"
   ]
  },
  {
   "cell_type": "code",
   "execution_count": 2,
   "metadata": {},
   "outputs": [
    {
     "name": "stdout",
     "output_type": "stream",
     "text": [
      "5 \n",
      "\n",
      "[[5103, 167.29751875764134, 84.83471757795137, 0.49273051084476294, 5813, 61.71264709669835, 450.58787138986935, 0.6079342858978816, 4.276585200085675, 0, 0], [7631, 10.062947449907123, 91.73548616481105, 0.27861007272762006, 7859, 164.18012360333933, 253.85089596246902, 0.12266566109587729, 1.7734023292170242, 1, 0], [5460, 150.660804836752, 89.30760378483726, 0.08335281079620915, 9553, 25.061300232515915, 207.87807758278865, 0.07428783884931944, 1.7205380424642347, 0, 2], [1312, 100.80910086711164, 37.15432950459364, 0.3758567035271706, 6709, 118.11447098467771, 446.6239333284453, 0.7354906809750148, 4.343668577184766, 1, 2], [9475, 115.48542072334342, 80.66843676849295, 0.2802730607448032, 2156, 108.0769156602314, 255.85359551774067, 0.2974328078327534, 3.5289362120027903, 1, 4]] \n",
      "\n",
      "[5103, 167.29751875764134, 84.83471757795137, 0.49273051084476294, 5813, 61.71264709669835, 450.58787138986935, 0.6079342858978816, 4.276585200085675, 0, 0] \n",
      "\n",
      "11 \n",
      "\n"
     ]
    }
   ],
   "source": [
    "import random\n",
    "\n",
    "def generate_new_data():\n",
    "    new_data_points = []\n",
    "    \n",
    "    for _ in range(5):\n",
    "        new_data_point = []\n",
    "        \n",
    "        # Generate random values for the features\n",
    "        new_data_point.append(random.randint(0, 10000)) # area\n",
    "        new_data_point.append(random.uniform(0, 200))   # majoraxislength\n",
    "        new_data_point.append(random.uniform(0, 100))   # minoraxislength\n",
    "        new_data_point.append(random.uniform(0, 1))     # eccentricity    \n",
    "        new_data_point.append(random.randint(0, 10000)) # convexarea\n",
    "        new_data_point.append(random.uniform(0, 200))   # equivdiameter\n",
    "        new_data_point.append(random.uniform(0, 500))   # perimeter\n",
    "        new_data_point.append(random.uniform(0, 1))     # roundness\n",
    "        new_data_point.append(random.uniform(0, 5))     # aspectration\n",
    "        new_data_point.append(random.randint(0, 1))     # class\n",
    "        new_data_point.append(random.randint(0, 4))     # clusters\n",
    "\n",
    "        \n",
    "        new_data_points.append(new_data_point)\n",
    "    \n",
    "    return new_data_points\n",
    "\n",
    "# Generate 5 new data points\n",
    "new_data = generate_new_data()\n",
    "# The list\n",
    "print(len(new_data),\"\\n\")\n",
    "print(new_data,\"\\n\")\n",
    "\n",
    "# The inner list\n",
    "print(new_data[0],\"\\n\")\n",
    "print(len(new_data[0]),\"\\n\")"
   ]
  },
  {
   "cell_type": "code",
   "execution_count": 3,
   "metadata": {},
   "outputs": [],
   "source": [
    "# Load the pipeline from the file\n",
    "with open('../pipeline/pipeline_regressor.pkl', 'rb') as f:\n",
    "    loaded_pipeline = pickle.load(f)"
   ]
  },
  {
   "cell_type": "code",
   "execution_count": 4,
   "metadata": {},
   "outputs": [],
   "source": [
    "model = tf.keras.models.load_model(\"../model/regressor\")"
   ]
  },
  {
   "cell_type": "code",
   "execution_count": 5,
   "metadata": {},
   "outputs": [],
   "source": [
    "# data taken from class_predictor.ipynb (replace values when ran)\n",
    "new_data = [[8145, 192.26997916580086, 45.625991753390714, 0.2226896637664949, 8142, 158.70488059469162, 301.2129280430347, 0.6275061670830634, 0.7615615272174886, 0, 1], [3644, 14.237193361835377, 48.34604407071156, 0.5968807474468729, 2327, 130.4799987453905, 400.7217474857165, 0.9632046191391497, 2.779685310376369, 1, 4], [6990, 107.90954845075305, 90.31471234177496, 0.14095083874847913, 8580, 186.57302135697955, 263.0724478016845, 0.8476043348607738, 0.6736505946530336, 0, 4], [6250, 84.4085252739974, 12.880675716999123, 0.18522076001742926, 5247, 96.67749639258791, 345.4625702921817, 0.8254539374850602, 0.8978098648365668, 0, 2], [9276, 165.66525939094646, 41.39939623077977, 0.8891080049665488, 2081, 195.99453902008452, 239.23857004602334, 0.1237485358545608, 4.348413200477338, 1, 1]]"
   ]
  },
  {
   "cell_type": "code",
   "execution_count": 6,
   "metadata": {},
   "outputs": [
    {
     "name": "stdout",
     "output_type": "stream",
     "text": [
      "11\n"
     ]
    }
   ],
   "source": [
    "transformed_data = loaded_pipeline.transform(new_data)\n",
    "print(transformed_data.shape[1])"
   ]
  },
  {
   "cell_type": "code",
   "execution_count": 16,
   "metadata": {},
   "outputs": [
    {
     "name": "stdout",
     "output_type": "stream",
     "text": [
      "1/1 [==============================] - 0s 82ms/step\n",
      "[0.6756834983825684, 0.7855374813079834, 0.7732091546058655, 0.6240816116333008, 0.6969476938247681]\n"
     ]
    }
   ],
   "source": [
    "y_pred  = model.predict(transformed_data.tolist())\n",
    "predictions = [predictions for sublist in y_pred.tolist() for predictions in sublist]\n",
    "print(predictions)"
   ]
  }
 ],
 "metadata": {
  "kernelspec": {
   "display_name": "Python 3.8.13",
   "language": "python",
   "name": "python3"
  },
  "language_info": {
   "codemirror_mode": {
    "name": "ipython",
    "version": 3
   },
   "file_extension": ".py",
   "mimetype": "text/x-python",
   "name": "python",
   "nbconvert_exporter": "python",
   "pygments_lexer": "ipython3",
   "version": "3.8.13"
  },
  "orig_nbformat": 4,
  "vscode": {
   "interpreter": {
    "hash": "0d3784fccdc90acbf957f8297e7e306d4c8b14c1a207bd5307d0795df9a8d77b"
   }
  }
 },
 "nbformat": 4,
 "nbformat_minor": 2
}
