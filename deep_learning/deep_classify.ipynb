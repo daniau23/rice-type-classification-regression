{
 "cells": [
  {
   "cell_type": "code",
   "execution_count": 87,
   "metadata": {},
   "outputs": [],
   "source": [
    "import pandas as pd\n",
    "import numpy as np \n",
    "import matplotlib.pyplot as plt\n",
    "import plotly.express as px\n",
    "import seaborn as sns\n",
    "import warnings\n",
    "warnings.filterwarnings(\"ignore\")\n",
    "import tensorflow as tf\n",
    "from tensorflow.keras.models import Sequential\n",
    "from tensorflow.keras.layers import Activation, Dropout, Dense"
   ]
  },
  {
   "cell_type": "code",
   "execution_count": 88,
   "metadata": {},
   "outputs": [
    {
     "name": "stdout",
     "output_type": "stream",
     "text": [
      "2.10.0\n"
     ]
    }
   ],
   "source": [
    "print(tf. __version__)"
   ]
  },
  {
   "cell_type": "code",
   "execution_count": 89,
   "metadata": {},
   "outputs": [],
   "source": [
    "import os\n",
    "\n",
    "# desktop\n",
    "desktop_path = os.path.expanduser(\"~/Desktop\")\n",
    "\n",
    "# data file path\n",
    "machine = os.path.join(desktop_path,\"machine\")\n",
    "data_science = os.path.join(machine,\"data_science\")\n",
    "rice_type_classification = os.path.join(data_science,\"rice-type-classification\")\n",
    "data_file = os.path.join(rice_type_classification,\"my_data/clusters.csv\")"
   ]
  },
  {
   "cell_type": "code",
   "execution_count": 90,
   "metadata": {},
   "outputs": [],
   "source": [
    "data = pd.read_csv(data_file)"
   ]
  },
  {
   "cell_type": "code",
   "execution_count": 91,
   "metadata": {},
   "outputs": [],
   "source": [
    "# Custom rc definitions\n",
    "rc = {\n",
    "        'axes.spines.right': True,\n",
    "        'axes.spines.top': True,\n",
    "        'font.family': ['sans-serif'],\n",
    "        'font.sans-serif':\n",
    "        # 'Arial',\n",
    "        'DejaVu Sans',\n",
    "        # 'Liberation Sans',\n",
    "        # 'Bitstream Vera Sans',\n",
    "        # 'sans-serif',\n",
    "        \"xtick.bottom\":True,\n",
    "        'axes.edgecolor': 'indigo',\n",
    "        'xtick.color': 'black',\n",
    "        'figure.facecolor': \"snow\",\n",
    "        'grid.color': 'grey',\n",
    "        \n",
    "}\n",
    "\n",
    "\n",
    "# font definitions\n",
    "font_label = {'family': 'serif',\n",
    "        'color':  'darkred',\n",
    "        'weight': 'semibold',\n",
    "        'size': 16,\n",
    "        }\n",
    "\n",
    "font_title = {'family': 'serif',\n",
    "        'color':  'black',\n",
    "        'weight': 'semibold',\n",
    "        'size': 16,\n",
    "        }\n",
    "\n",
    "font_fig = {'family': 'sans',\n",
    "        'color':  'chocolate',\n",
    "        # 'weight': 'bold', # doesn't apply to it. Must be specified independently\n",
    "        # 'fontsize': 30, # doesn't apply to it. Must be specified independently\n",
    "        }"
   ]
  },
  {
   "cell_type": "code",
   "execution_count": 92,
   "metadata": {},
   "outputs": [
    {
     "data": {
      "text/html": [
       "<div>\n",
       "<style scoped>\n",
       "    .dataframe tbody tr th:only-of-type {\n",
       "        vertical-align: middle;\n",
       "    }\n",
       "\n",
       "    .dataframe tbody tr th {\n",
       "        vertical-align: top;\n",
       "    }\n",
       "\n",
       "    .dataframe thead th {\n",
       "        text-align: right;\n",
       "    }\n",
       "</style>\n",
       "<table border=\"1\" class=\"dataframe\">\n",
       "  <thead>\n",
       "    <tr style=\"text-align: right;\">\n",
       "      <th></th>\n",
       "      <th>area</th>\n",
       "      <th>majoraxislength</th>\n",
       "      <th>minoraxislength</th>\n",
       "      <th>eccentricity</th>\n",
       "      <th>convexarea</th>\n",
       "      <th>equivdiameter</th>\n",
       "      <th>extent</th>\n",
       "      <th>perimeter</th>\n",
       "      <th>roundness</th>\n",
       "      <th>aspectration</th>\n",
       "      <th>clusters</th>\n",
       "      <th>class_jasmine</th>\n",
       "    </tr>\n",
       "  </thead>\n",
       "  <tbody>\n",
       "    <tr>\n",
       "      <th>0</th>\n",
       "      <td>6374</td>\n",
       "      <td>129.577</td>\n",
       "      <td>63.762</td>\n",
       "      <td>0.871</td>\n",
       "      <td>6476</td>\n",
       "      <td>90.087</td>\n",
       "      <td>0.662</td>\n",
       "      <td>314.656</td>\n",
       "      <td>0.809</td>\n",
       "      <td>2.032</td>\n",
       "      <td>3</td>\n",
       "      <td>1</td>\n",
       "    </tr>\n",
       "    <tr>\n",
       "      <th>1</th>\n",
       "      <td>6946</td>\n",
       "      <td>136.304</td>\n",
       "      <td>65.738</td>\n",
       "      <td>0.876</td>\n",
       "      <td>7115</td>\n",
       "      <td>94.042</td>\n",
       "      <td>0.594</td>\n",
       "      <td>338.782</td>\n",
       "      <td>0.761</td>\n",
       "      <td>2.073</td>\n",
       "      <td>1</td>\n",
       "      <td>1</td>\n",
       "    </tr>\n",
       "    <tr>\n",
       "      <th>2</th>\n",
       "      <td>5786</td>\n",
       "      <td>125.555</td>\n",
       "      <td>59.626</td>\n",
       "      <td>0.880</td>\n",
       "      <td>5945</td>\n",
       "      <td>85.831</td>\n",
       "      <td>0.623</td>\n",
       "      <td>307.304</td>\n",
       "      <td>0.770</td>\n",
       "      <td>2.106</td>\n",
       "      <td>3</td>\n",
       "      <td>1</td>\n",
       "    </tr>\n",
       "    <tr>\n",
       "      <th>3</th>\n",
       "      <td>5896</td>\n",
       "      <td>127.014</td>\n",
       "      <td>59.843</td>\n",
       "      <td>0.882</td>\n",
       "      <td>6092</td>\n",
       "      <td>86.643</td>\n",
       "      <td>0.610</td>\n",
       "      <td>309.264</td>\n",
       "      <td>0.775</td>\n",
       "      <td>2.122</td>\n",
       "      <td>3</td>\n",
       "      <td>1</td>\n",
       "    </tr>\n",
       "    <tr>\n",
       "      <th>4</th>\n",
       "      <td>6082</td>\n",
       "      <td>129.098</td>\n",
       "      <td>60.416</td>\n",
       "      <td>0.884</td>\n",
       "      <td>6204</td>\n",
       "      <td>87.999</td>\n",
       "      <td>0.661</td>\n",
       "      <td>308.106</td>\n",
       "      <td>0.805</td>\n",
       "      <td>2.137</td>\n",
       "      <td>3</td>\n",
       "      <td>1</td>\n",
       "    </tr>\n",
       "  </tbody>\n",
       "</table>\n",
       "</div>"
      ],
      "text/plain": [
       "   area  majoraxislength  minoraxislength  eccentricity  convexarea  \\\n",
       "0  6374          129.577           63.762         0.871        6476   \n",
       "1  6946          136.304           65.738         0.876        7115   \n",
       "2  5786          125.555           59.626         0.880        5945   \n",
       "3  5896          127.014           59.843         0.882        6092   \n",
       "4  6082          129.098           60.416         0.884        6204   \n",
       "\n",
       "   equivdiameter  extent  perimeter  roundness  aspectration  clusters  \\\n",
       "0         90.087   0.662    314.656      0.809         2.032         3   \n",
       "1         94.042   0.594    338.782      0.761         2.073         1   \n",
       "2         85.831   0.623    307.304      0.770         2.106         3   \n",
       "3         86.643   0.610    309.264      0.775         2.122         3   \n",
       "4         87.999   0.661    308.106      0.805         2.137         3   \n",
       "\n",
       "   class_jasmine  \n",
       "0              1  \n",
       "1              1  \n",
       "2              1  \n",
       "3              1  \n",
       "4              1  "
      ]
     },
     "execution_count": 92,
     "metadata": {},
     "output_type": "execute_result"
    }
   ],
   "source": [
    "data = pd.get_dummies(data,columns=['class'],drop_first=True)\n",
    "data.head()"
   ]
  },
  {
   "cell_type": "code",
   "execution_count": 93,
   "metadata": {},
   "outputs": [],
   "source": [
    "from sklearn.model_selection import train_test_split\n",
    "from sklearn.compose import ColumnTransformer\n",
    "from sklearn.pipeline import  Pipeline\n",
    "from sklearn.preprocessing import StandardScaler\n",
    "from sklearn.decomposition import PCA"
   ]
  },
  {
   "cell_type": "code",
   "execution_count": 94,
   "metadata": {},
   "outputs": [],
   "source": [
    "X = data.drop(columns=[\"class_jasmine\"])\n",
    "y = data.class_jasmine"
   ]
  },
  {
   "cell_type": "code",
   "execution_count": 95,
   "metadata": {},
   "outputs": [
    {
     "data": {
      "text/plain": [
       "[0, 1, 2, 4, 5, 7]"
      ]
     },
     "execution_count": 95,
     "metadata": {},
     "output_type": "execute_result"
    }
   ],
   "source": [
    "to_transform = ['area','majoraxislength','minoraxislength',\n",
    "                'convexarea','equivdiameter','perimeter']\n",
    "\n",
    "indexes = [ X.columns.tolist().index(value) for value in to_transform]\n",
    "indexes"
   ]
  },
  {
   "cell_type": "code",
   "execution_count": 96,
   "metadata": {},
   "outputs": [],
   "source": [
    "# Scaler\n",
    "scaler = StandardScaler()\n",
    "\n",
    "# Column transformer\n",
    "ct1 = ColumnTransformer([\n",
    "    ('scale',scaler,indexes)],\n",
    "    remainder='passthrough')"
   ]
  },
  {
   "cell_type": "code",
   "execution_count": 97,
   "metadata": {},
   "outputs": [],
   "source": [
    "my_pipe = Pipeline([\n",
    "    (\"ct\",ct1),\n",
    "    ('pca',PCA(n_components=6))\n",
    "])"
   ]
  },
  {
   "cell_type": "code",
   "execution_count": 98,
   "metadata": {},
   "outputs": [],
   "source": [
    "X_train,X_test,y_train,y_test = train_test_split(X,y,random_state=42,test_size=.20)"
   ]
  },
  {
   "cell_type": "code",
   "execution_count": 99,
   "metadata": {},
   "outputs": [],
   "source": [
    "X_train_preprocessed = my_pipe.fit_transform(X_train)\n",
    "X_test_preprocessed = my_pipe.transform(X_test)"
   ]
  },
  {
   "cell_type": "code",
   "execution_count": 100,
   "metadata": {},
   "outputs": [],
   "source": [
    "pipeline_path = \"pipeline\"\n",
    "os.makedirs(pipeline_path,exist_ok=True)"
   ]
  },
  {
   "cell_type": "code",
   "execution_count": 101,
   "metadata": {},
   "outputs": [],
   "source": [
    "import pickle\n",
    "\n",
    "with open('../pipeline/pipeline_classifier.pkl','wb') as filer:\n",
    "    pickle.dump(my_pipe,filer)"
   ]
  },
  {
   "cell_type": "code",
   "execution_count": 102,
   "metadata": {},
   "outputs": [],
   "source": [
    "from tensorflow.keras.layers import Input,Add\n",
    "from tensorflow.keras.models import Model"
   ]
  },
  {
   "cell_type": "code",
   "execution_count": 103,
   "metadata": {},
   "outputs": [],
   "source": [
    "def residual_block(x):\n",
    "    identity = x\n",
    "    x = Dense(64,activation='relu',name=\"residual_block_layer_1\")(x) # 64\n",
    "    x = Dense(64,activation='relu',name=\"residual_block_layer_2\")(x) # 64\n",
    "    x = Add()([identity,x] )# 64 + 64 = 128\n",
    "\n",
    "    return x"
   ]
  },
  {
   "cell_type": "code",
   "execution_count": 104,
   "metadata": {},
   "outputs": [],
   "source": [
    "def custom_model(input_shape):\n",
    "    inputs = Input(shape=(input_shape,),name='input_layer')\n",
    "    x = Dense(64,activation='relu',name=\"layer1\")(inputs)\n",
    "    x = residual_block(x) # 128\n",
    "    x = Dense(32,activation=\"relu\",name=\"layer2\")(x) \n",
    "    x = Dense(16,activation=\"relu\",name=\"layer3\")(x)\n",
    "    x = Dropout(.7)(x)\n",
    "    output_layer= Dense(1,activation=\"sigmoid\",name=\"output\")(x)\n",
    "    model = Model(inputs=inputs,outputs=output_layer)\n",
    "\n",
    "    return model\n"
   ]
  },
  {
   "cell_type": "code",
   "execution_count": 105,
   "metadata": {},
   "outputs": [
    {
     "data": {
      "text/plain": [
       "(14117, 6)"
      ]
     },
     "execution_count": 105,
     "metadata": {},
     "output_type": "execute_result"
    }
   ],
   "source": [
    "X_train_preprocessed.shape"
   ]
  },
  {
   "cell_type": "code",
   "execution_count": 106,
   "metadata": {},
   "outputs": [
    {
     "data": {
      "text/plain": [
       "array([[ 3.09987425, -1.01038234, -1.12450529, -0.10586483, -0.12565208,\n",
       "         0.03113819]])"
      ]
     },
     "execution_count": 106,
     "metadata": {},
     "output_type": "execute_result"
    }
   ],
   "source": [
    "X_train_preprocessed[:1]"
   ]
  },
  {
   "cell_type": "code",
   "execution_count": 107,
   "metadata": {},
   "outputs": [
    {
     "name": "stdout",
     "output_type": "stream",
     "text": [
      "Model: \"model\"\n",
      "__________________________________________________________________________________________________\n",
      " Layer (type)                   Output Shape         Param #     Connected to                     \n",
      "==================================================================================================\n",
      " input_layer (InputLayer)       [(None, 6)]          0           []                               \n",
      "                                                                                                  \n",
      " layer1 (Dense)                 (None, 64)           448         ['input_layer[0][0]']            \n",
      "                                                                                                  \n",
      " residual_block_layer_1 (Dense)  (None, 64)          4160        ['layer1[0][0]']                 \n",
      "                                                                                                  \n",
      " residual_block_layer_2 (Dense)  (None, 64)          4160        ['residual_block_layer_1[0][0]'] \n",
      "                                                                                                  \n",
      " add (Add)                      (None, 64)           0           ['layer1[0][0]',                 \n",
      "                                                                  'residual_block_layer_2[0][0]'] \n",
      "                                                                                                  \n",
      " layer2 (Dense)                 (None, 32)           2080        ['add[0][0]']                    \n",
      "                                                                                                  \n",
      " layer3 (Dense)                 (None, 16)           528         ['layer2[0][0]']                 \n",
      "                                                                                                  \n",
      " dropout (Dropout)              (None, 16)           0           ['layer3[0][0]']                 \n",
      "                                                                                                  \n",
      " output (Dense)                 (None, 1)            17          ['dropout[0][0]']                \n",
      "                                                                                                  \n",
      "==================================================================================================\n",
      "Total params: 11,393\n",
      "Trainable params: 11,393\n",
      "Non-trainable params: 0\n",
      "__________________________________________________________________________________________________\n"
     ]
    }
   ],
   "source": [
    "model = custom_model(X_test_preprocessed.shape[1])\n",
    "model.summary()"
   ]
  },
  {
   "cell_type": "code",
   "execution_count": 108,
   "metadata": {},
   "outputs": [],
   "source": [
    "# Define the custom callback\n",
    "class MyCustomCallback(tf.keras.callbacks.Callback):\n",
    "    def __init__(self):\n",
    "        super(MyCustomCallback, self).__init__()\n",
    "\n",
    "    def on_epoch_end(self, epoch, logs=None):\n",
    "        if logs is not None:\n",
    "            val_loss = logs.get('val_loss') \n",
    "            loss = logs.get('loss')\n",
    "            val_acc = logs.get('val_acc') \n",
    "            acc = logs.get('acc')\n",
    "            if val_loss < 0.01:\n",
    "                print(f\"\\nValidation loss is less than 0.01. \\nStopping training.\\n\")\n",
    "                self.model.stop_training = True\n",
    "            # elif (loss <0.6) and (val_loss <= loss):\n",
    "            #     print(f\"\\nValidation loss is less than loss: {loss} and loss is less than 0.6\\nStopping training.\\n\")\n",
    "            #     self.model.stop_training = True\n",
    "            elif (val_acc > 0.99 ) or (val_loss <= 0.01):\n",
    "                print(f\"\\nValidation loss is <= 0.01 or val_acc >= 0.99\\nStopping training.\\n\")\n",
    "                self.model.stop_training = True\n",
    "\n",
    "my_callback = MyCustomCallback()"
   ]
  },
  {
   "cell_type": "code",
   "execution_count": 109,
   "metadata": {},
   "outputs": [],
   "source": [
    "import datetime\n",
    "class TimeCallback(tf.keras.callbacks.Callback):\n",
    "\n",
    "    def on_epoch_begin(self,epoch, logs=None):\n",
    "        print('Epoch: {}, begins at {}\\n'.format(epoch, datetime.datetime.now().time()))\n",
    "\n",
    "    def on_epoch_end(self,epoch, logs=None):\n",
    "        print('Epoch: {}, ends at {}\\n'.format(epoch, datetime.datetime.now().time()))\n",
    "\n",
    "my_timer = TimeCallback()"
   ]
  },
  {
   "cell_type": "code",
   "execution_count": 110,
   "metadata": {},
   "outputs": [],
   "source": [
    "# Learning Rate Schedulers\n",
    "peak_callback = tf.keras.callbacks.ReduceLROnPlateau(\n",
    "    monitor=\"val_loss\",\n",
    "    factor=0.1,\n",
    "    patience=2,\n",
    "    mode= 'min',\n",
    "    min_lr=0.00001\n",
    ")\n",
    "\n",
    "# Learning rate scheduler\n",
    "def scheduler(epoch,lr):\n",
    "    if epoch < 10:\n",
    "        return lr\n",
    "    else:\n",
    "        return lr * tf.math.exp(-0.1)\n",
    "\n",
    "my_scheduler = tf.keras.callbacks.LearningRateScheduler(scheduler)\n",
    "# optimizer\n",
    "optimise = tf.keras.optimizers.Adam(learning_rate=0.01)\n",
    "# losses\n",
    "my_loss = tf.keras.losses.binary_crossentropy\n",
    "\n",
    "# metrics\n",
    "precision = tf.keras.metrics.Precision()\n",
    "recall = tf.keras.metrics.Recall()"
   ]
  },
  {
   "cell_type": "code",
   "execution_count": 111,
   "metadata": {},
   "outputs": [],
   "source": [
    "model.compile(optimizer=optimise,loss=my_loss,\n",
    "            metrics=[\n",
    "                \"acc\",precision,recall\n",
    "            ])"
   ]
  },
  {
   "cell_type": "code",
   "execution_count": 112,
   "metadata": {},
   "outputs": [
    {
     "name": "stdout",
     "output_type": "stream",
     "text": [
      "Epoch: 0, begins at 13:16:04.173986\n",
      "\n",
      "Epoch 1/20\n",
      "692/706 [============================>.] - ETA: 0s - loss: 0.1655 - acc: 0.9144 - precision: 0.9219 - recall: 0.9210Epoch: 0, ends at 13:16:11.057482\n",
      "\n",
      "706/706 [==============================] - 7s 4ms/step - loss: 0.1646 - acc: 0.9154 - precision: 0.9230 - recall: 0.9216 - val_loss: 0.0495 - val_acc: 0.9844 - val_precision: 0.9905 - val_recall: 0.9798 - lr: 0.0100\n",
      "Epoch: 1, begins at 13:16:11.062503\n",
      "\n",
      "Epoch 2/20\n",
      "704/706 [============================>.] - ETA: 0s - loss: 0.1220 - acc: 0.9545 - precision: 0.9895 - recall: 0.9263Epoch: 1, ends at 13:16:13.602896\n",
      "\n",
      "706/706 [==============================] - 3s 4ms/step - loss: 0.1219 - acc: 0.9547 - precision: 0.9896 - recall: 0.9265 - val_loss: 0.0648 - val_acc: 0.9865 - val_precision: 0.9852 - val_recall: 0.9892 - lr: 0.0100\n",
      "Epoch: 2, begins at 13:16:13.611065\n",
      "\n",
      "Epoch 3/20\n",
      "701/706 [============================>.] - ETA: 0s - loss: 0.1298 - acc: 0.9576 - precision: 0.9909 - recall: 0.9306Epoch: 2, ends at 13:16:16.512206\n",
      "\n",
      "706/706 [==============================] - 3s 4ms/step - loss: 0.1297 - acc: 0.9575 - precision: 0.9910 - recall: 0.9304 - val_loss: 0.0815 - val_acc: 0.9837 - val_precision: 0.9904 - val_recall: 0.9784 - lr: 0.0100\n",
      "Epoch: 3, begins at 13:16:16.520468\n",
      "\n",
      "Epoch 4/20\n",
      "696/706 [============================>.] - ETA: 0s - loss: 0.1300 - acc: 0.9599 - precision: 0.9926 - recall: 0.9333Epoch: 3, ends at 13:16:19.109405\n",
      "\n",
      "706/706 [==============================] - 3s 4ms/step - loss: 0.1299 - acc: 0.9599 - precision: 0.9927 - recall: 0.9332 - val_loss: 0.0432 - val_acc: 0.9880 - val_precision: 0.9859 - val_recall: 0.9912 - lr: 1.0000e-03\n",
      "Epoch: 4, begins at 13:16:19.114054\n",
      "\n",
      "Epoch 5/20\n",
      "696/706 [============================>.] - ETA: 0s - loss: 0.1224 - acc: 0.9589 - precision: 0.9925 - recall: 0.9317Epoch: 4, ends at 13:16:21.925462\n",
      "\n",
      "706/706 [==============================] - 3s 4ms/step - loss: 0.1218 - acc: 0.9592 - precision: 0.9926 - recall: 0.9320 - val_loss: 0.0440 - val_acc: 0.9890 - val_precision: 0.9872 - val_recall: 0.9919 - lr: 1.0000e-03\n",
      "Epoch: 5, begins at 13:16:21.932093\n",
      "\n",
      "Epoch 6/20\n",
      "695/706 [============================>.] - ETA: 0s - loss: 0.1194 - acc: 0.9613 - precision: 0.9925 - recall: 0.9362Epoch: 5, ends at 13:16:24.968084\n",
      "\n",
      "706/706 [==============================] - 3s 4ms/step - loss: 0.1188 - acc: 0.9616 - precision: 0.9926 - recall: 0.9364 - val_loss: 0.0434 - val_acc: 0.9883 - val_precision: 0.9866 - val_recall: 0.9912 - lr: 1.0000e-03\n",
      "Epoch: 6, begins at 13:16:24.973036\n",
      "\n",
      "Epoch 7/20\n",
      "696/706 [============================>.] - ETA: 0s - loss: 0.1228 - acc: 0.9576 - precision: 0.9930 - recall: 0.9288Epoch: 6, ends at 13:16:27.710061\n",
      "\n",
      "706/706 [==============================] - 3s 4ms/step - loss: 0.1223 - acc: 0.9578 - precision: 0.9929 - recall: 0.9291 - val_loss: 0.0435 - val_acc: 0.9883 - val_precision: 0.9866 - val_recall: 0.9912 - lr: 1.0000e-04\n",
      "Epoch: 7, begins at 13:16:27.719031\n",
      "\n",
      "Epoch 8/20\n",
      "702/706 [============================>.] - ETA: 0s - loss: 0.1192 - acc: 0.9611 - precision: 0.9932 - recall: 0.9349Epoch: 7, ends at 13:16:30.657032\n",
      "\n",
      "706/706 [==============================] - 3s 4ms/step - loss: 0.1187 - acc: 0.9613 - precision: 0.9933 - recall: 0.9353 - val_loss: 0.0429 - val_acc: 0.9883 - val_precision: 0.9866 - val_recall: 0.9912 - lr: 1.0000e-04\n",
      "Epoch: 8, begins at 13:16:30.664849\n",
      "\n",
      "Epoch 9/20\n",
      "696/706 [============================>.] - ETA: 0s - loss: 0.1130 - acc: 0.9621 - precision: 0.9927 - recall: 0.9373Epoch: 8, ends at 13:16:33.259449\n",
      "\n",
      "706/706 [==============================] - 3s 4ms/step - loss: 0.1128 - acc: 0.9621 - precision: 0.9928 - recall: 0.9372 - val_loss: 0.0433 - val_acc: 0.9887 - val_precision: 0.9866 - val_recall: 0.9919 - lr: 1.0000e-04\n",
      "Epoch: 9, begins at 13:16:33.268333\n",
      "\n",
      "Epoch 10/20\n",
      "696/706 [============================>.] - ETA: 0s - loss: 0.1189 - acc: 0.9611 - precision: 0.9923 - recall: 0.9358Epoch: 9, ends at 13:16:36.331472\n",
      "\n",
      "706/706 [==============================] - 3s 4ms/step - loss: 0.1189 - acc: 0.9609 - precision: 0.9924 - recall: 0.9354 - val_loss: 0.0425 - val_acc: 0.9887 - val_precision: 0.9866 - val_recall: 0.9919 - lr: 1.0000e-04\n",
      "Epoch: 10, begins at 13:16:36.340448\n",
      "\n",
      "Epoch 11/20\n",
      "694/706 [============================>.] - ETA: 0s - loss: 0.1158 - acc: 0.9599 - precision: 0.9930 - recall: 0.9330Epoch: 10, ends at 13:16:39.401811\n",
      "\n",
      "706/706 [==============================] - 3s 4ms/step - loss: 0.1157 - acc: 0.9600 - precision: 0.9929 - recall: 0.9332 - val_loss: 0.0425 - val_acc: 0.9887 - val_precision: 0.9866 - val_recall: 0.9919 - lr: 9.0484e-05\n",
      "Epoch: 11, begins at 13:16:39.409486\n",
      "\n",
      "Epoch 12/20\n",
      "702/706 [============================>.] - ETA: 0s - loss: 0.1164 - acc: 0.9609 - precision: 0.9934 - recall: 0.9344Epoch: 11, ends at 13:16:42.408151\n",
      "\n",
      "706/706 [==============================] - 3s 4ms/step - loss: 0.1162 - acc: 0.9610 - precision: 0.9934 - recall: 0.9346 - val_loss: 0.0426 - val_acc: 0.9890 - val_precision: 0.9866 - val_recall: 0.9926 - lr: 8.1873e-05\n",
      "Epoch: 12, begins at 13:16:42.413140\n",
      "\n",
      "Epoch 13/20\n",
      "694/706 [============================>.] - ETA: 0s - loss: 0.1156 - acc: 0.9599 - precision: 0.9930 - recall: 0.9330Epoch: 12, ends at 13:16:45.166609\n",
      "\n",
      "706/706 [==============================] - 3s 4ms/step - loss: 0.1152 - acc: 0.9601 - precision: 0.9931 - recall: 0.9332 - val_loss: 0.0427 - val_acc: 0.9890 - val_precision: 0.9866 - val_recall: 0.9926 - lr: 9.0484e-06\n",
      "Epoch: 13, begins at 13:16:45.174493\n",
      "\n",
      "Epoch 14/20\n",
      "706/706 [==============================] - ETA: 0s - loss: 0.1168 - acc: 0.9609 - precision: 0.9926 - recall: 0.9353Epoch: 13, ends at 13:16:48.116783\n",
      "\n",
      "706/706 [==============================] - 3s 4ms/step - loss: 0.1168 - acc: 0.9609 - precision: 0.9926 - recall: 0.9353 - val_loss: 0.0426 - val_acc: 0.9890 - val_precision: 0.9866 - val_recall: 0.9926 - lr: 8.1873e-06\n",
      "Epoch: 14, begins at 13:16:48.124527\n",
      "\n",
      "Epoch 15/20\n",
      "700/706 [============================>.] - ETA: 0s - loss: 0.1198 - acc: 0.9608 - precision: 0.9929 - recall: 0.9348Epoch: 14, ends at 13:16:51.056419\n",
      "\n",
      "706/706 [==============================] - 3s 4ms/step - loss: 0.1196 - acc: 0.9609 - precision: 0.9929 - recall: 0.9348 - val_loss: 0.0426 - val_acc: 0.9890 - val_precision: 0.9866 - val_recall: 0.9926 - lr: 7.4082e-06\n",
      "Epoch: 15, begins at 13:16:51.061410\n",
      "\n",
      "Epoch 16/20\n",
      "699/706 [============================>.] - ETA: 0s - loss: 0.1119 - acc: 0.9640 - precision: 0.9927 - recall: 0.9407Epoch: 15, ends at 13:16:53.788471\n",
      "\n",
      "706/706 [==============================] - 3s 4ms/step - loss: 0.1115 - acc: 0.9641 - precision: 0.9928 - recall: 0.9410 - val_loss: 0.0425 - val_acc: 0.9890 - val_precision: 0.9866 - val_recall: 0.9926 - lr: 6.7032e-06\n",
      "Epoch: 16, begins at 13:16:53.793458\n",
      "\n",
      "Epoch 17/20\n",
      "697/706 [============================>.] - ETA: 0s - loss: 0.1189 - acc: 0.9596 - precision: 0.9928 - recall: 0.9324Epoch: 16, ends at 13:16:56.668433\n",
      "\n",
      "706/706 [==============================] - 3s 4ms/step - loss: 0.1185 - acc: 0.9598 - precision: 0.9927 - recall: 0.9330 - val_loss: 0.0426 - val_acc: 0.9890 - val_precision: 0.9866 - val_recall: 0.9926 - lr: 6.0653e-06\n",
      "Epoch: 17, begins at 13:16:56.674444\n",
      "\n",
      "Epoch 18/20\n",
      "695/706 [============================>.] - ETA: 0s - loss: 0.1174 - acc: 0.9597 - precision: 0.9935 - recall: 0.9321Epoch: 17, ends at 13:16:59.445777\n",
      "\n",
      "706/706 [==============================] - 3s 4ms/step - loss: 0.1175 - acc: 0.9596 - precision: 0.9931 - recall: 0.9323 - val_loss: 0.0426 - val_acc: 0.9890 - val_precision: 0.9866 - val_recall: 0.9926 - lr: 5.4881e-06\n",
      "Epoch: 18, begins at 13:16:59.453956\n",
      "\n",
      "Epoch 19/20\n",
      "695/706 [============================>.] - ETA: 0s - loss: 0.1150 - acc: 0.9625 - precision: 0.9930 - recall: 0.9377Epoch: 18, ends at 13:17:02.554307\n",
      "\n",
      "706/706 [==============================] - 3s 4ms/step - loss: 0.1145 - acc: 0.9626 - precision: 0.9931 - recall: 0.9379 - val_loss: 0.0426 - val_acc: 0.9890 - val_precision: 0.9866 - val_recall: 0.9926 - lr: 4.9659e-06\n",
      "Epoch: 19, begins at 13:17:02.560877\n",
      "\n",
      "Epoch 20/20\n",
      "694/706 [============================>.] - ETA: 0s - loss: 0.1215 - acc: 0.9587 - precision: 0.9933 - recall: 0.9303Epoch: 19, ends at 13:17:05.585052\n",
      "\n",
      "706/706 [==============================] - 3s 4ms/step - loss: 0.1209 - acc: 0.9589 - precision: 0.9934 - recall: 0.9307 - val_loss: 0.0426 - val_acc: 0.9890 - val_precision: 0.9866 - val_recall: 0.9926 - lr: 4.4933e-06\n"
     ]
    }
   ],
   "source": [
    "tf.keras.backend.clear_session()\n",
    "model_history = model.fit(X_train_preprocessed,y_train,\n",
    "                        epochs=20,batch_size=16,validation_split=.20,\n",
    "                        # steps_per_epoch=5,\n",
    "                        callbacks=[my_callback,my_scheduler,\n",
    "                        peak_callback,my_timer])"
   ]
  },
  {
   "cell_type": "code",
   "execution_count": 113,
   "metadata": {},
   "outputs": [
    {
     "name": "stdout",
     "output_type": "stream",
     "text": [
      "111/111 [==============================] - 0s 2ms/step - loss: 0.0331 - acc: 0.9932 - precision: 0.9902 - recall: 0.9974\n"
     ]
    }
   ],
   "source": [
    "score = model.evaluate(X_test_preprocessed,y_test,verbose=1)"
   ]
  },
  {
   "cell_type": "code",
   "execution_count": 114,
   "metadata": {},
   "outputs": [],
   "source": [
    "# # Model Performance Charts original\n",
    "\n",
    "# plt.plot(model_history.history['acc'])\n",
    "# plt.plot(model_history.history['val_acc'])\n",
    "\n",
    "# plt.title('model accuracy')\n",
    "# plt.ylabel('accuracy')\n",
    "# plt.xlabel('epoch')\n",
    "# plt.legend(['training','validation'], loc='upper left')\n",
    "# plt.show()\n",
    "\n",
    "# plt.plot(model_history.history['loss'])\n",
    "# plt.plot(model_history.history['val_loss'])\n",
    "\n",
    "# plt.title('model loss')\n",
    "# plt.ylabel('loss')\n",
    "# plt.xlabel('epoch')\n",
    "# plt.legend(['training','validation'], loc='upper left')\n",
    "# plt.show()"
   ]
  },
  {
   "cell_type": "code",
   "execution_count": 115,
   "metadata": {},
   "outputs": [
    {
     "data": {
      "image/png": "[encoded data removed]",
      "text/plain": [
       "<Figure size 1440x720 with 2 Axes>"
      ]
     },
     "metadata": {},
     "output_type": "display_data"
    }
   ],
   "source": [
    "# Model Performance Charts\n",
    "fig, ax = plt.subplots(1, 2, figsize=(20, 10))\n",
    "\n",
    "# Plot accuracy\n",
    "ax[0].plot(model_history.history['acc'])\n",
    "ax[0].plot(model_history.history['val_acc'])\n",
    "ax[0].set_title('Model Accuracy',fontdict=font_title)\n",
    "ax[0].set_ylabel('Accuracy',fontdict=font_label)\n",
    "ax[0].set_xlabel('Epoch',fontdict=font_label)\n",
    "ax[0].legend(['Training', 'Validation'], loc='upper left')\n",
    "\n",
    "# Plot loss\n",
    "ax[1].plot(model_history.history['loss'])\n",
    "ax[1].plot(model_history.history['val_loss'])\n",
    "ax[1].set_title('Model Loss',fontdict=font_title)\n",
    "ax[1].set_ylabel('Loss',fontdict=font_label)\n",
    "ax[1].set_xlabel('Epoch',fontdict=font_label)\n",
    "ax[1].legend(['Training', 'Validation'], loc='upper left')\n",
    "\n",
    "# Show the plots\n",
    "plt.show()\n"
   ]
  },
  {
   "cell_type": "markdown",
   "metadata": {},
   "source": [
    "### **Classification report**"
   ]
  },
  {
   "cell_type": "code",
   "execution_count": 121,
   "metadata": {},
   "outputs": [
    {
     "name": "stdout",
     "output_type": "stream",
     "text": [
      "442/442 [==============================] - 1s 1ms/step\n",
      "              precision    recall  f1-score   support\n",
      "\n",
      "           0       0.99      0.99      0.99      6485\n",
      "           1       0.99      0.99      0.99      7632\n",
      "\n",
      "    accuracy                           0.99     14117\n",
      "   macro avg       0.99      0.99      0.99     14117\n",
      "weighted avg       0.99      0.99      0.99     14117\n",
      "\n"
     ]
    },
    {
     "data": {
      "image/png": "[encoded data removed]",
      "text/plain": [
       "<Figure size 360x180 with 2 Axes>"
      ]
     },
     "metadata": {},
     "output_type": "display_data"
    }
   ],
   "source": [
    "from sklearn.metrics import classification_report,\\\n",
    "    confusion_matrix, ConfusionMatrixDisplay\n",
    "\n",
    "def class_report(model,X,y_true):\n",
    "    y_pred_proba  = model.predict(X)\n",
    "    # Convert probabilities to binary predictions\n",
    "    y_pred = (y_pred_proba > 0.5).astype(int)\n",
    "    fig,ax = plt.subplots(1, figsize=(5,2.5),constrained_layout=True)\n",
    "    sns.set_theme(style='white',rc=rc,palette='bright')\n",
    "    print(classification_report(y_true,y_pred ))\n",
    "    cm = confusion_matrix(y_true,y_pred ,labels=[0,1])\n",
    "    disp = ConfusionMatrixDisplay(confusion_matrix=cm,\n",
    "                        display_labels=['gonen','jasmine'])\n",
    "    disp.plot(ax=ax)\n",
    "    plt.show()\n",
    "\n",
    "class_report(model,X_train_preprocessed,y_train)"
   ]
  },
  {
   "cell_type": "code",
   "execution_count": 117,
   "metadata": {},
   "outputs": [
    {
     "name": "stdout",
     "output_type": "stream",
     "text": [
      "111/111 [==============================] - 0s 2ms/step\n",
      "              precision    recall  f1-score   support\n",
      "\n",
      "           0       1.00      0.99      0.99      1599\n",
      "           1       0.99      1.00      0.99      1931\n",
      "\n",
      "    accuracy                           0.99      3530\n",
      "   macro avg       0.99      0.99      0.99      3530\n",
      "weighted avg       0.99      0.99      0.99      3530\n",
      "\n"
     ]
    },
    {
     "data": {
      "image/png": "[encoded data removed]",
      "text/plain": [
       "<Figure size 360x180 with 2 Axes>"
      ]
     },
     "metadata": {},
     "output_type": "display_data"
    }
   ],
   "source": [
    "# test data\n",
    "class_report(model,X_test_preprocessed,y_test)"
   ]
  },
  {
   "cell_type": "code",
   "execution_count": 118,
   "metadata": {},
   "outputs": [
    {
     "name": "stdout",
     "output_type": "stream",
     "text": [
      "111/111 [==============================] - 0s 2ms/step\n"
     ]
    },
    {
     "data": {
      "image/png": "[encoded data removed]",
      "text/plain": [
       "<Figure size 576x396 with 1 Axes>"
      ]
     },
     "metadata": {},
     "output_type": "display_data"
    }
   ],
   "source": [
    "import matplotlib.pyplot as plt\n",
    "from sklearn.metrics import roc_curve, auc\n",
    "\n",
    "# Make predictions on test data\n",
    "y_pred = model.predict(X_test_preprocessed)\n",
    "\n",
    "# Compute ROC curve and ROC area\n",
    "fpr, tpr, _ = roc_curve(y_test, y_pred)\n",
    "roc_auc = auc(fpr, tpr)\n",
    "\n",
    "# Plot ROC curve\n",
    "plt.figure()\n",
    "plt.plot(fpr, tpr, color='darkorange', lw=2, label='ROC curve (area = %0.2f)' % roc_auc)\n",
    "plt.plot([0, 1], [0, 1], color='navy', lw=2, linestyle='--')\n",
    "plt.xlim([0.0, 1.0])\n",
    "plt.ylim([0.0, 1.05])\n",
    "plt.xlabel('False Positive Rate')\n",
    "plt.ylabel('True Positive Rate')\n",
    "plt.title('Receiver Operating Characteristic (ROC) Curve')\n",
    "plt.legend(loc=\"lower right\")\n",
    "plt.show()"
   ]
  },
  {
   "cell_type": "code",
   "execution_count": 119,
   "metadata": {},
   "outputs": [],
   "source": [
    "model_path = \"model\"\n",
    "os.makedirs(model_path,exist_ok=True)"
   ]
  },
  {
   "cell_type": "code",
   "execution_count": 122,
   "metadata": {},
   "outputs": [
    {
     "name": "stdout",
     "output_type": "stream",
     "text": [
      "INFO:tensorflow:Assets written to: model/deep_classifier\\assets\n"
     ]
    }
   ],
   "source": [
    "# model = os.path\n",
    "model.save(f\"../{model_path}/deep_classifier\")"
   ]
  }
 ],
 "metadata": {
  "kernelspec": {
   "display_name": "Python 3.8.13",
   "language": "python",
   "name": "python3"
  },
  "language_info": {
   "codemirror_mode": {
    "name": "ipython",
    "version": 3
   },
   "file_extension": ".py",
   "mimetype": "text/x-python",
   "name": "python",
   "nbconvert_exporter": "python",
   "pygments_lexer": "ipython3",
   "version": "3.8.13"
  },
  "orig_nbformat": 4,
  "vscode": {
   "interpreter": {
    "hash": "0d3784fccdc90acbf957f8297e7e306d4c8b14c1a207bd5307d0795df9a8d77b"
   }
  }
 },
 "nbformat": 4,
 "nbformat_minor": 2
}
