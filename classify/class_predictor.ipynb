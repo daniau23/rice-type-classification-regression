{
 "cells": [
  {
   "cell_type": "code",
   "execution_count": 1,
   "metadata": {},
   "outputs": [],
   "source": [
    "import pandas as pd\n",
    "import numpy as np \n",
    "import matplotlib.pyplot as plt\n",
    "import plotly.express as px\n",
    "import plotly.graph_objects as go\n",
    "import seaborn as sns\n",
    "import warnings\n",
    "import pickle\n",
    "warnings.filterwarnings(\"ignore\")"
   ]
  },
  {
   "cell_type": "code",
   "execution_count": 2,
   "metadata": {},
   "outputs": [
    {
     "name": "stdout",
     "output_type": "stream",
     "text": [
      "5 \n",
      "\n",
      "[[6783, 134.38424025738405, 51.87313470141544, 0.21405976093038004, 5642, 8.299512305912792, 0.8973637779065164, 432.31314336510053, 0.08502158418434835, 0.9696327818581052, 0], [5732, 56.59106824094528, 67.19794807821484, 0.7931840814259042, 653, 141.10465999177666, 0.05402723821766464, 232.60784302854864, 0.5752051323023281, 1.4874666389166613, 4], [4906, 116.29686179098609, 89.03377714727696, 0.04036443534194234, 2389, 95.66485536618711, 0.2389558483470109, 95.24464895307094, 0.67460647136312, 0.5152900906380975, 1], [5283, 144.7016795135189, 36.90821944594237, 0.6143751464370153, 8271, 148.69141218570925, 0.9735531139562249, 270.2316416000104, 0.6320263764535171, 4.827186769880548, 4], [9212, 127.1828927212562, 1.4139135475296105, 0.580027340057703, 9464, 81.72230355315978, 0.21461456373284304, 201.97473000715004, 0.9077937464050593, 4.93825134835398, 1]] \n",
      "\n",
      "[6783, 134.38424025738405, 51.87313470141544, 0.21405976093038004, 5642, 8.299512305912792, 0.8973637779065164, 432.31314336510053, 0.08502158418434835, 0.9696327818581052, 0] \n",
      "\n",
      "11 \n",
      "\n"
     ]
    }
   ],
   "source": [
    "import random\n",
    "\n",
    "def generate_new_data():\n",
    "    new_data_points = []\n",
    "    \n",
    "    for _ in range(5):\n",
    "        new_data_point = []\n",
    "        \n",
    "        # Generate random values for the features\n",
    "        new_data_point.append(random.randint(0, 10000)) # area\n",
    "        new_data_point.append(random.uniform(0, 200))   # majoraxislength\n",
    "        new_data_point.append(random.uniform(0, 100))   # minoraxislength\n",
    "        new_data_point.append(random.uniform(0, 1))     # eccentricity    \n",
    "        new_data_point.append(random.randint(0, 10000)) # convexarea\n",
    "        new_data_point.append(random.uniform(0, 200))   # equivdiameter\n",
    "        new_data_point.append(random.uniform(0, 1))     # extent\n",
    "        new_data_point.append(random.uniform(0, 500))   # perimeter\n",
    "        new_data_point.append(random.uniform(0, 1))     # roundness\n",
    "        new_data_point.append(random.uniform(0, 5))     # aspectration\n",
    "        new_data_point.append(random.randint(0, 4))     # clusters\n",
    "\n",
    "        \n",
    "        new_data_points.append(new_data_point)\n",
    "    \n",
    "    return new_data_points\n",
    "\n",
    "# Generate 5 new data points\n",
    "new_data = generate_new_data()\n",
    "# The list\n",
    "print(len(new_data),\"\\n\")\n",
    "print(new_data,\"\\n\")\n",
    "\n",
    "# The inner list\n",
    "print(new_data[0],\"\\n\")\n",
    "print(len(new_data[0]),\"\\n\")"
   ]
  },
  {
   "cell_type": "code",
   "execution_count": 4,
   "metadata": {},
   "outputs": [],
   "source": [
    "# Load the pipeline from the file\n",
    "with open('../model/pipeline_classifier.pkl', 'rb') as f:\n",
    "    loaded_pipeline = pickle.load(f)"
   ]
  },
  {
   "cell_type": "code",
   "execution_count": 5,
   "metadata": {},
   "outputs": [
    {
     "data": {
      "text/plain": [
       "['jasmine', 'jasmine', 'jasmine', 'gonen', 'jasmine']"
      ]
     },
     "execution_count": 5,
     "metadata": {},
     "output_type": "execute_result"
    }
   ],
   "source": [
    "mapper = {0:\"gonen\",1:\"jasmine\"}\n",
    "predictions = list(loaded_pipeline.predict(new_data))\n",
    "mapped_predictions = [mapper[value] for value in predictions]\n",
    "mapped_predictions"
   ]
  }
 ],
 "metadata": {
  "kernelspec": {
   "display_name": "Python 3.8.13",
   "language": "python",
   "name": "python3"
  },
  "language_info": {
   "codemirror_mode": {
    "name": "ipython",
    "version": 3
   },
   "file_extension": ".py",
   "mimetype": "text/x-python",
   "name": "python",
   "nbconvert_exporter": "python",
   "pygments_lexer": "ipython3",
   "version": "3.8.13"
  },
  "orig_nbformat": 4,
  "vscode": {
   "interpreter": {
    "hash": "c8e3cf4d6bb4a0ac7877b378c8a3c902fd94777f6924c9107da577688ed2ac1b"
   }
  }
 },
 "nbformat": 4,
 "nbformat_minor": 2
}
